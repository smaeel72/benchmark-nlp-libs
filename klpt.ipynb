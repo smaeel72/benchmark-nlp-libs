{
  "nbformat": 4,
  "nbformat_minor": 0,
  "metadata": {
    "colab": {
      "provenance": []
    },
    "kernelspec": {
      "name": "python3",
      "display_name": "Python 3"
    },
    "language_info": {
      "name": "python"
    }
  },
  "cells": [
    {
      "cell_type": "markdown",
      "source": [
        "Install"
      ],
      "metadata": {
        "id": "HYFIHlf8FavS"
      }
    },
    {
      "cell_type": "code",
      "execution_count": 4,
      "metadata": {
        "colab": {
          "base_uri": "https://localhost:8080/"
        },
        "id": "k5ybBiyIFJxT",
        "outputId": "94ac5ccc-8855-436a-93a5-11653109a46d"
      },
      "outputs": [
        {
          "output_type": "stream",
          "name": "stdout",
          "text": [
            "Collecting cyhunspell\n",
            "  Downloading CyHunspell-1.3.4.tar.gz (2.7 MB)\n",
            "\u001b[2K     \u001b[90m━━━━━━━━━━━━━━━━━━━━━━━━━━━━━━━━━━━━━━━━\u001b[0m \u001b[32m2.7/2.7 MB\u001b[0m \u001b[31m11.1 MB/s\u001b[0m eta \u001b[36m0:00:00\u001b[0m\n",
            "\u001b[?25h  \u001b[1;31merror\u001b[0m: \u001b[1msubprocess-exited-with-error\u001b[0m\n",
            "  \n",
            "  \u001b[31m×\u001b[0m \u001b[32mpython setup.py egg_info\u001b[0m did not run successfully.\n",
            "  \u001b[31m│\u001b[0m exit code: \u001b[1;36m1\u001b[0m\n",
            "  \u001b[31m╰─>\u001b[0m See above for output.\n",
            "  \n",
            "  \u001b[1;35mnote\u001b[0m: This error originates from a subprocess, and is likely not a problem with pip.\n",
            "  Preparing metadata (setup.py) ... \u001b[?25l\u001b[?25herror\n",
            "\u001b[1;31merror\u001b[0m: \u001b[1mmetadata-generation-failed\u001b[0m\n",
            "\n",
            "\u001b[31m×\u001b[0m Encountered error while generating package metadata.\n",
            "\u001b[31m╰─>\u001b[0m See above for output.\n",
            "\n",
            "\u001b[1;35mnote\u001b[0m: This is an issue with the package mentioned above, not pip.\n",
            "\u001b[1;36mhint\u001b[0m: See above for details.\n",
            "Collecting klpt\n",
            "  Using cached klpt-0.1.6-py3-none-any.whl.metadata (16 kB)\n",
            "INFO: pip is looking at multiple versions of klpt to determine which version is compatible with other requirements. This could take a while.\n",
            "  Using cached klpt-0.1.5-py3-none-any.whl.metadata (16 kB)\n",
            "  Using cached klpt-0.1.4-py3-none-any.whl.metadata (15 kB)\n",
            "  Using cached klpt-0.1.3-py3-none-any.whl.metadata (14 kB)\n",
            "  Using cached klpt-0.1.2-py3-none-any.whl.metadata (15 kB)\n",
            "  Using cached klpt-0.1.1-py3-none-any.whl.metadata (15 kB)\n",
            "  Using cached klpt-0.1.0-py3-none-any.whl.metadata (13 kB)\n",
            "\u001b[31mERROR: Cannot install klpt==0.1.0, klpt==0.1.1, klpt==0.1.2, klpt==0.1.3, klpt==0.1.4, klpt==0.1.5 and klpt==0.1.6 because these package versions have conflicting dependencies.\u001b[0m\u001b[31m\n",
            "\u001b[0m\n",
            "The conflict is caused by:\n",
            "    klpt 0.1.6 depends on cyhunspell>=2.0.1\n",
            "    klpt 0.1.5 depends on cyhunspell>=2.0.1\n",
            "    klpt 0.1.4 depends on cyhunspell>=2.0.1\n",
            "    klpt 0.1.3 depends on cyhunspell>=2.0.1\n",
            "    klpt 0.1.2 depends on cyhunspell>=2.0.1\n",
            "    klpt 0.1.1 depends on cyhunspell>=2.0.1\n",
            "    klpt 0.1.0 depends on cyhunspell>=2.0.1\n",
            "\n",
            "To fix this you could try to:\n",
            "1. loosen the range of package versions you've specified\n",
            "2. remove package versions to allow pip to attempt to solve the dependency conflict\n",
            "\n",
            "\u001b[31mERROR: ResolutionImpossible: for help visit https://pip.pypa.io/en/latest/topics/dependency-resolution/#dealing-with-dependency-conflicts\u001b[0m\u001b[31m\n",
            "\u001b[0m"
          ]
        }
      ],
      "source": [
        "! pip install cyhunspell\n",
        "! pip install klpt"
      ]
    },
    {
      "cell_type": "code",
      "source": [
        "Failed to install:\n",
        "depends on cyhunspell>=2.0.1"
      ],
      "metadata": {
        "colab": {
          "base_uri": "https://localhost:8080/",
          "height": 110
        },
        "id": "nmQz4_moFqC3",
        "outputId": "50b442a7-e5c5-4b8c-8610-02b9eebedbe0"
      },
      "execution_count": 6,
      "outputs": [
        {
          "output_type": "error",
          "ename": "SyntaxError",
          "evalue": "invalid syntax (<ipython-input-6-2883bdded067>, line 1)",
          "traceback": [
            "\u001b[0;36m  File \u001b[0;32m\"<ipython-input-6-2883bdded067>\"\u001b[0;36m, line \u001b[0;32m1\u001b[0m\n\u001b[0;31m    Failed to install:\u001b[0m\n\u001b[0m           ^\u001b[0m\n\u001b[0;31mSyntaxError\u001b[0m\u001b[0;31m:\u001b[0m invalid syntax\n"
          ]
        }
      ]
    }
  ]
}